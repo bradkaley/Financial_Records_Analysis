{
 "cells": [
  {
   "cell_type": "code",
   "execution_count": 21,
   "id": "e80b961f-038b-45d7-b492-b2f512b4ef15",
   "metadata": {},
   "outputs": [],
   "source": [
    "#The following is a script to do the following:\n",
    "# 1.\n",
    "# 2.\n",
    "# 3. \n",
    "# 4. "
   ]
  },
  {
   "cell_type": "code",
   "execution_count": 22,
   "id": "785c166d-8a6b-465a-bdd0-bf0f2c69e174",
   "metadata": {},
   "outputs": [
    {
     "name": "stdout",
     "output_type": "stream",
     "text": [
      "Current Working Directory: C:\\Users\\bradl\\OneDrive\\Desktop\\FinTech\\Homeworks\\Python-Homework\\PyRamen\n"
     ]
    }
   ],
   "source": [
    "#Import Path function from Path library, identify current path, and import csv library\n",
    "from pathlib import Path\n",
    "print(f\"Current Working Directory: {Path.cwd()}\")\n",
    "\n",
    "import csv"
   ]
  },
  {
   "cell_type": "code",
   "execution_count": 23,
   "id": "eee3fee0-9e62-43a2-a6e1-28f6932d9ac5",
   "metadata": {},
   "outputs": [],
   "source": [
    "#Set relative file path to menu and sales csv data files\n",
    "menu_data_filepath = Path('menu_data.csv')\n",
    "sales_data_filepath = Path('sales_data.csv')"
   ]
  },
  {
   "cell_type": "code",
   "execution_count": 24,
   "id": "836a53d9-9c12-436a-aa0d-47ed752aa07f",
   "metadata": {},
   "outputs": [],
   "source": [
    "#Initialize empty list objects for menu and sales csv data files\n",
    "menu = []\n",
    "sales = []"
   ]
  },
  {
   "cell_type": "code",
   "execution_count": 25,
   "id": "6dd52c0e-8c52-436f-8eda-4b04d3111786",
   "metadata": {},
   "outputs": [],
   "source": [
    "#Open the menu csv data file as an object\n",
    "with open(menu_data_filepath, 'r') as menu_data_file:\n",
    "\n",
    "    #Pass the menu data file into the csv reader with a ',' deliminter\n",
    "    menu_reader = csv.reader(menu_data_file,delimiter=',')\n",
    "    \n",
    "    #Skip the header row when reading\n",
    "    header = next(menu_reader)\n",
    "           \n",
    "    #Iterate over each row of the csv data file after the header to append these rows to the empty list named menu\n",
    "    for row in menu_reader:\n",
    "                      \n",
    "        menu.append(row)"
   ]
  },
  {
   "cell_type": "code",
   "execution_count": 26,
   "id": "c9019515-5b52-459a-9767-adb1da9d1ccb",
   "metadata": {},
   "outputs": [],
   "source": [
    "#Open the sales csv data file as an object\n",
    "with open(sales_data_filepath, 'r') as sales_data_file:\n",
    "\n",
    "    #Pass the sales data file into the csv reader with a ',' deliminter\n",
    "    sales_reader = csv.reader(sales_data_file,delimiter=',')\n",
    "    \n",
    "    #Skip the header row when reading\n",
    "    header = next(sales_reader)\n",
    "           \n",
    "    #Iterate over each row of the csv data file after the header to append these rows to the empty list named menu\n",
    "    for row in sales_reader:\n",
    "        \n",
    "        sales.append(row)"
   ]
  },
  {
   "cell_type": "code",
   "execution_count": 27,
   "id": "11d938b9-a093-4ff0-87f1-54e3c33b5184",
   "metadata": {},
   "outputs": [],
   "source": [
    "#Initialize empty dictionary object to hold key-value pairs of items and sales\n",
    "report = {}"
   ]
  },
  {
   "cell_type": "code",
   "execution_count": 28,
   "id": "8797f023-7e9c-42c7-bdd2-165310acaf95",
   "metadata": {},
   "outputs": [],
   "source": [
    "#Initialize a row counter variable\n",
    "row_count = 0"
   ]
  },
  {
   "cell_type": "code",
   "execution_count": 38,
   "id": "1d4fdcb6-1f4a-4a82-aa75-0413894637e8",
   "metadata": {},
   "outputs": [
    {
     "ename": "KeyError",
     "evalue": "'spicy miso ramen'",
     "output_type": "error",
     "traceback": [
      "\u001b[1;31m---------------------------------------------------------------------------\u001b[0m",
      "\u001b[1;31mKeyError\u001b[0m                                  Traceback (most recent call last)",
      "\u001b[1;32m~\\AppData\\Local\\Temp/ipykernel_4148/2704170888.py\u001b[0m in \u001b[0;36m<module>\u001b[1;34m\u001b[0m\n\u001b[0;32m     25\u001b[0m         \u001b[1;31m#If the sales_item in sales is equal to the item in menu, use data from the sales and menu list objects to calculate data about the item and add it to the dictionary for that item.\u001b[0m\u001b[1;33m\u001b[0m\u001b[1;33m\u001b[0m\u001b[1;33m\u001b[0m\u001b[0m\n\u001b[0;32m     26\u001b[0m         \u001b[1;32mif\u001b[0m \u001b[0msales_item\u001b[0m \u001b[1;33m==\u001b[0m \u001b[0mitem\u001b[0m\u001b[1;33m:\u001b[0m\u001b[1;33m\u001b[0m\u001b[1;33m\u001b[0m\u001b[0m\n\u001b[1;32m---> 27\u001b[1;33m             \u001b[0mreport\u001b[0m\u001b[1;33m[\u001b[0m\u001b[0msales_item\u001b[0m\u001b[1;33m]\u001b[0m\u001b[1;33m[\u001b[0m\u001b[1;34m\"01-count\"\u001b[0m\u001b[1;33m]\u001b[0m \u001b[1;33m+=\u001b[0m \u001b[0mquantity\u001b[0m\u001b[1;33m\u001b[0m\u001b[1;33m\u001b[0m\u001b[0m\n\u001b[0m\u001b[0;32m     28\u001b[0m             \u001b[0mreport\u001b[0m\u001b[1;33m[\u001b[0m\u001b[0msales_item\u001b[0m\u001b[1;33m]\u001b[0m\u001b[1;33m[\u001b[0m\u001b[1;34m\"02-revenue\"\u001b[0m\u001b[1;33m]\u001b[0m \u001b[1;33m+=\u001b[0m \u001b[0mprice\u001b[0m \u001b[1;33m*\u001b[0m \u001b[0mquantity\u001b[0m\u001b[1;33m\u001b[0m\u001b[1;33m\u001b[0m\u001b[0m\n\u001b[0;32m     29\u001b[0m             \u001b[0mreport\u001b[0m\u001b[1;33m[\u001b[0m\u001b[0msales_item\u001b[0m\u001b[1;33m]\u001b[0m\u001b[1;33m[\u001b[0m\u001b[1;34m\"03-cogs\"\u001b[0m\u001b[1;33m]\u001b[0m \u001b[1;33m+=\u001b[0m \u001b[0mcost\u001b[0m \u001b[1;33m*\u001b[0m \u001b[0mquantity\u001b[0m\u001b[1;33m\u001b[0m\u001b[1;33m\u001b[0m\u001b[0m\n",
      "\u001b[1;31mKeyError\u001b[0m: 'spicy miso ramen'"
     ]
    }
   ],
   "source": [
    "#Loop over every row in the sales list object\n",
    "for sales_row in sales:\n",
    "\n",
    "    #Set data in 'quantity' and 'menu_item' (named sales_item here for clarity) columns to variables for readability and convert 'quantity' from string to integer to be able to do calculations.\n",
    "    quantity = int(sales_row[3])\n",
    "    sales_item = sales_row[4]       \n",
    "\n",
    "    # If the item value is not in the report, add it as a new entry with initialized metrics\n",
    "    # Naming convention allows the keys to be ordered in logical fashion, count, revenue, cost, profit\n",
    "    if sales_item in report == False:\n",
    "        report[sales_item] = {\n",
    "            \"01-count\": 0,\n",
    "            \"02-revenue\": 0,\n",
    "            \"03-cogs\": 0,\n",
    "            \"04-profit\": 0,\n",
    "        }\n",
    "        \n",
    "    for menu_row in menu:\n",
    "        \n",
    "        #Set data in 'item', 'price', and 'cost' columns to variables for readability and convert 'price' and 'cost' from strings to floats to be able to do calculations\n",
    "        item = menu_row[0]\n",
    "        price = float(menu_row[3])\n",
    "        cost = float(menu_row[4])   \n",
    "            \n",
    "        #If the sales_item in sales is equal to the item in menu, use data from the sales and menu list objects to calculate data about the item and add it to the dictionary for that item.\n",
    "        if sales_item == item:\n",
    "            report[sales_item][\"01-count\"] += quantity\n",
    "            report[sales_item][\"02-revenue\"] += price * quantity\n",
    "            report[sales_item][\"03-cogs\"] += cost * quantity\n",
    "            report[sales_item][\"04-profit\"] += (price - cost) * quantity\n",
    "        else:\n",
    "            print(f\"{sales_item} does not equal {item}! NO MATCH!\")\n",
    "            \n",
    "    #increase the row counter by 1           \n",
    "    row_count += 1"
   ]
  },
  {
   "cell_type": "code",
   "execution_count": 31,
   "id": "2f25626a-a2d1-489a-9da3-7bbacfb3e54c",
   "metadata": {},
   "outputs": [
    {
     "name": "stdout",
     "output_type": "stream",
     "text": [
      "74124\n"
     ]
    }
   ],
   "source": [
    "print(row_count)"
   ]
  },
  {
   "cell_type": "code",
   "execution_count": 33,
   "id": "d2e1f33b-2e72-4441-a625-d503f392e10f",
   "metadata": {},
   "outputs": [
    {
     "name": "stdout",
     "output_type": "stream",
     "text": [
      "Total number of sales: 74,124\n"
     ]
    }
   ],
   "source": [
    "#Print total number of records in sales data\n",
    "print(f\"Total number of sales: {row_count:,}\")"
   ]
  },
  {
   "cell_type": "code",
   "execution_count": 37,
   "id": "9660d844-7baf-4e6c-ba5e-d594f851cd24",
   "metadata": {},
   "outputs": [],
   "source": [
    "#Set the output file path\n",
    "output_filepath = Path(\"Sales_Summary.txt\")"
   ]
  },
  {
   "cell_type": "code",
   "execution_count": null,
   "id": "1610cec1-ee4a-4178-af37-b789e7fba1c2",
   "metadata": {},
   "outputs": [],
   "source": [
    "#Write the contents of the sales analysis to the text file\n",
    "with open(output_filepath,'w') as file:\n",
    "    file.write(\"Financial Analysis\\n\")\n",
    "    file.write(\"----------------------------\\n\")\n",
    "    file.write(f\"Total Months: {total_months:,}\\n\")\n",
    "    file.write(f\"Net Total P&L: ${total_pnl:,}\\n\")\n",
    "    file.write(f\"Average P&L Change: ${average_pnl_change:,.2f}\\n\")\n",
    "    file.write(f\"Greatest Increase in Profits: {greatest_profits_increase_month} (${greatest_profits_increase:,})\\n\")\n",
    "    file.write(f\"Greatest Decrease in Profits: {greatest_profits_decrease_month} (${greatest_profits_decrease:,})\\n\")"
   ]
  }
 ],
 "metadata": {
  "kernelspec": {
   "display_name": "Python 3 (ipykernel)",
   "language": "python",
   "name": "python3"
  },
  "language_info": {
   "codemirror_mode": {
    "name": "ipython",
    "version": 3
   },
   "file_extension": ".py",
   "mimetype": "text/x-python",
   "name": "python",
   "nbconvert_exporter": "python",
   "pygments_lexer": "ipython3",
   "version": "3.8.8"
  }
 },
 "nbformat": 4,
 "nbformat_minor": 5
}
