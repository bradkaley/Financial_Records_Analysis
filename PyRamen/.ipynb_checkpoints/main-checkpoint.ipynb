{
 "cells": [
  {
   "cell_type": "code",
   "execution_count": 22,
   "id": "e80b961f-038b-45d7-b492-b2f512b4ef15",
   "metadata": {},
   "outputs": [],
   "source": [
    "#The following is a script to do the following:\n",
    "# 1.\n",
    "# 2.\n",
    "# 3. \n",
    "# 4. "
   ]
  },
  {
   "cell_type": "code",
   "execution_count": 23,
   "id": "785c166d-8a6b-465a-bdd0-bf0f2c69e174",
   "metadata": {},
   "outputs": [
    {
     "name": "stdout",
     "output_type": "stream",
     "text": [
      "Current Working Directory: C:\\Users\\bradl\\OneDrive\\Desktop\\FinTech\\Homeworks\\Python-Homework\\PyRamen\n"
     ]
    }
   ],
   "source": [
    "#Import Path function from Path library, identify current path, and import csv library\n",
    "from pathlib import Path\n",
    "print(f\"Current Working Directory: {Path.cwd()}\")\n",
    "\n",
    "import csv"
   ]
  },
  {
   "cell_type": "code",
   "execution_count": 24,
   "id": "eee3fee0-9e62-43a2-a6e1-28f6932d9ac5",
   "metadata": {},
   "outputs": [],
   "source": [
    "#Set relative file path to menu and sales csv data files\n",
    "menu_data_filepath = Path('menu_data.csv')\n",
    "sales_data_filepath = Path('sales_data.csv')"
   ]
  },
  {
   "cell_type": "code",
   "execution_count": 25,
   "id": "836a53d9-9c12-436a-aa0d-47ed752aa07f",
   "metadata": {},
   "outputs": [],
   "source": [
    "#Initialize empty list objects for menu and sales csv data files\n",
    "menu = []\n",
    "sales = []"
   ]
  },
  {
   "cell_type": "code",
   "execution_count": 26,
   "id": "6dd52c0e-8c52-436f-8eda-4b04d3111786",
   "metadata": {},
   "outputs": [],
   "source": [
    "#Open the menu csv data file as an object\n",
    "with open(menu_data_filepath, 'r') as menu_data_file:\n",
    "\n",
    "    #Pass the menu data file into the csv reader with a ',' deliminter\n",
    "    menu_reader = csv.reader(menu_data_file,delimiter=',')\n",
    "    \n",
    "    #Skip the header row when reading\n",
    "    header = next(menu_reader)\n",
    "           \n",
    "    #Iterate over each row of the csv data file after the header to append these rows to the empty list named menu\n",
    "    for row in menu_reader:\n",
    "               \n",
    "        #Set all columns to variables for readability and convert 'price' and 'cost' from strings to floats to be able to do calculations\n",
    "        item = row[0]\n",
    "        category = row[1]\n",
    "        description = row[2]\n",
    "        price = float(row[3])\n",
    "        cost = float(row[4])       \n",
    "        \n",
    "        menu.append(row)"
   ]
  },
  {
   "cell_type": "code",
   "execution_count": 28,
   "id": "c9019515-5b52-459a-9767-adb1da9d1ccb",
   "metadata": {},
   "outputs": [],
   "source": [
    "#Open the sales csv data file as an object\n",
    "with open(sales_data_filepath, 'r') as sales_data_file:\n",
    "\n",
    "    #Pass the sales data file into the csv reader with a ',' deliminter\n",
    "    sales_reader = csv.reader(sales_data_file,delimiter=',')\n",
    "    \n",
    "    #Skip the header row when reading\n",
    "    header = next(sales_reader)\n",
    "           \n",
    "    #Iterate over each row of the csv data file after the header to append these rows to the empty list named menu\n",
    "    for row in sales_reader:\n",
    "               \n",
    "        #Set all columns to variables for readability and convert 'price' and 'cost' from strings to floats to be able to do calculations\n",
    "        line_item_id = row[0]\n",
    "        date = row[1]\n",
    "        credit_card_number = row[2]\n",
    "        quantity = int(row[3])\n",
    "        menu_item = row[4]       \n",
    "        \n",
    "        sales.append(row)"
   ]
  },
  {
   "cell_type": "code",
   "execution_count": null,
   "id": "11d938b9-a093-4ff0-87f1-54e3c33b5184",
   "metadata": {},
   "outputs": [],
   "source": [
    "#Initialize empty dictionary object to hold key-value pairs of items and sales\n",
    "report = {}\n",
    "\n",
    "#dictionary will hold the following: \n",
    "#01-count: the total quantity for each ramen type\n",
    "#02-revenue: the total revenue for each ramen type\n",
    "#03-cogs: the total cost of goods sold for each ramen type\n",
    "#04-profit: the total profit for each ramen type"
   ]
  },
  {
   "cell_type": "code",
   "execution_count": null,
   "id": "8797f023-7e9c-42c7-bdd2-165310acaf95",
   "metadata": {},
   "outputs": [],
   "source": [
    "#Initialize a row counter variable\n",
    "row_count = 0"
   ]
  },
  {
   "cell_type": "code",
   "execution_count": 34,
   "id": "1d4fdcb6-1f4a-4a82-aa75-0413894637e8",
   "metadata": {},
   "outputs": [],
   "source": [
    "#Loop over every row in the sales list object\n",
    "\n",
    "    # Line_Item_ID,Date,Credit_Card_Number,Quantity,Menu_Item\n",
    "    # @TODO: Initialize sales data variables\n",
    "\n",
    "\n",
    "    # @TODO:\n",
    "    # If the item value not in the report, add it as a new entry with initialized metrics\n",
    "    # Naming convention allows the keys to be ordered in logical fashion, count, revenue, cost, profit\n",
    "\n",
    "\n",
    "\n",
    "    # @TODO: For every row in our sales data, loop over the menu records to determine a match\n",
    "\n",
    "\n",
    "        # Item,Category,Description,Price,Cost\n",
    "        # @TODO: Initialize menu data variables\n",
    "\n",
    "\n",
    "        # @TODO: Calculate profit of each item in the menu data\n",
    "\n",
    "\n",
    "        # @TODO: If the item value in our sales data is equal to the any of the items in the menu, then begin tracking metrics for that item\n",
    "\n",
    "\n",
    "            # @TODO: Print out matching menu data\n",
    "\n",
    "\n",
    "\n",
    "            # @TODO: Cumulatively add up the metrics for each item key\n",
    "\n",
    "\n",
    "        # @TODO: Else, the sales item does not equal any fo the item in the menu data, therefore no match\n",
    "\n",
    "\n",
    "    # @TODO: Increment the row counter by 1\n",
    "\n"
   ]
  },
  {
   "cell_type": "code",
   "execution_count": 35,
   "id": "d2e1f33b-2e72-4441-a625-d503f392e10f",
   "metadata": {},
   "outputs": [],
   "source": [
    "#Print total number of records in sales data"
   ]
  },
  {
   "cell_type": "code",
   "execution_count": 37,
   "id": "9660d844-7baf-4e6c-ba5e-d594f851cd24",
   "metadata": {},
   "outputs": [],
   "source": [
    "#Set the output file path\n",
    "output_filepath = Path(\"Sales_Summary.txt\")"
   ]
  },
  {
   "cell_type": "code",
   "execution_count": null,
   "id": "1610cec1-ee4a-4178-af37-b789e7fba1c2",
   "metadata": {},
   "outputs": [],
   "source": [
    "#Write the contents of the sales analysis to the text file\n",
    "with open(output_filepath,'w') as file:\n",
    "    file.write(\"Financial Analysis\\n\")\n",
    "    file.write(\"----------------------------\\n\")\n",
    "    file.write(f\"Total Months: {total_months:,}\\n\")\n",
    "    file.write(f\"Net Total P&L: ${total_pnl:,}\\n\")\n",
    "    file.write(f\"Average P&L Change: ${average_pnl_change:,.2f}\\n\")\n",
    "    file.write(f\"Greatest Increase in Profits: {greatest_profits_increase_month} (${greatest_profits_increase:,})\\n\")\n",
    "    file.write(f\"Greatest Decrease in Profits: {greatest_profits_decrease_month} (${greatest_profits_decrease:,})\\n\")"
   ]
  }
 ],
 "metadata": {
  "kernelspec": {
   "display_name": "Python 3 (ipykernel)",
   "language": "python",
   "name": "python3"
  },
  "language_info": {
   "codemirror_mode": {
    "name": "ipython",
    "version": 3
   },
   "file_extension": ".py",
   "mimetype": "text/x-python",
   "name": "python",
   "nbconvert_exporter": "python",
   "pygments_lexer": "ipython3",
   "version": "3.8.8"
  }
 },
 "nbformat": 4,
 "nbformat_minor": 5
}
