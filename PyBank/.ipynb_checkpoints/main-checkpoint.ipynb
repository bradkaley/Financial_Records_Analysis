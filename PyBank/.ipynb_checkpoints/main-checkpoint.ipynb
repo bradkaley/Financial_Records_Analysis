{
 "cells": [
  {
   "cell_type": "code",
   "execution_count": 187,
   "id": "ff09b66d-5863-4421-839b-46420ace1fd9",
   "metadata": {},
   "outputs": [],
   "source": [
    "#The following is a script to do the following:\n",
    "# 1.Import budget data from a csv file \n",
    "# 2.Open the csv file in the csv reader\n",
    "# 3. Iterate through the data to perform financial analyses on monthly P&Ls\n",
    "# 4. Print a summary of the analyses and then output that summary to a text file"
   ]
  },
  {
   "cell_type": "code",
   "execution_count": 188,
   "id": "420153c0-d214-4f0f-bdd0-9d143543090f",
   "metadata": {},
   "outputs": [],
   "source": [
    "#Define the variables for the analysis\n",
    "total_months = 0\n",
    "total_pnl = 0\n",
    "previous_month_pnl = 0\n",
    "current_month_pnl = 0\n",
    "monthly_pnl_change = 0\n",
    "total_monthly_pnl_change = 0\n",
    "average_pnl_change = 0\n",
    "greatest_profits_increase = 0\n",
    "greatest_profits_decrease = 0\n",
    "greatest_profits_increase_month = 0\n",
    "greatest_profits_decrease_month = 0"
   ]
  },
  {
   "cell_type": "code",
   "execution_count": 189,
   "id": "04a9d93f-d032-4ae9-b204-b40e0713fdc2",
   "metadata": {},
   "outputs": [
    {
     "name": "stdout",
     "output_type": "stream",
     "text": [
      "Current Working Directory: C:\\Users\\bradl\\OneDrive\\Desktop\\FinTech\\Homeworks\\Python-Homework\\PyBank\n"
     ]
    }
   ],
   "source": [
    "#Import Path function from Path library, identify current path, and import csv library\n",
    "from pathlib import Path\n",
    "print(f\"Current Working Directory: {Path.cwd()}\")\n",
    "\n",
    "import csv"
   ]
  },
  {
   "cell_type": "code",
   "execution_count": 190,
   "id": "e56b0282-9f35-4ef5-97fd-1a8f6667fb2d",
   "metadata": {},
   "outputs": [],
   "source": [
    "#Set relative file path to csv data file\n",
    "budget_data_filepath = Path('budget_data.csv')"
   ]
  },
  {
   "cell_type": "code",
   "execution_count": 191,
   "id": "9a029196-cd2b-4561-9192-e8125df88c96",
   "metadata": {},
   "outputs": [],
   "source": [
    "#Open the csv data file as an object\n",
    "with open(budget_data_filepath, 'r') as csv_data_file:\n",
    "\n",
    "    #Pass the csv data file with budget data into the csv reader with a ',' deliminter\n",
    "    csv_reader = csv.reader(csv_data_file,delimiter=',')\n",
    "    \n",
    "    #Read the header row first, append the header with a column for daily P&L change, and skip it in the analysis\n",
    "    header = next(csv_reader)\n",
    "    header.append(\"Monthly P&L Change\")\n",
    "    \n",
    "    #Iterate over each row of the csv data file after the header\n",
    "    for row in csv_reader:\n",
    "        \n",
    "        #Set the 'date' and 'profit/losses' to variables for readability and convert 'profits/losses' from strings to integers for calculations\n",
    "        date = row[0]\n",
    "        pnl = int(row[1])\n",
    "        \n",
    "        #Calculate the total months and total P&L\n",
    "        total_months += 1\n",
    "        total_pnl += pnl\n",
    "        \n",
    "        #Set the current month's P&L, then calculate the 'Monthly P&L Change' and append the value to the current row\n",
    "        current_month_pnl = pnl\n",
    "        \n",
    "        if previous_month_pnl == 0:\n",
    "            monthly_pnl_change = 0\n",
    "        else:\n",
    "            monthly_pnl_change = current_month_pnl - previous_month_pnl\n",
    "            \n",
    "        row.append(monthly_pnl_change)        \n",
    "            \n",
    "        #Calculate the net total monthly P&L changes for the calculation of average monthly P&L change\n",
    "        total_monthly_pnl_change += monthly_pnl_change\n",
    "        \n",
    "        #Determine and update the variables for the greatest profit increase and decrease\n",
    "        if (monthly_pnl_change > 0) and (monthly_pnl_change > greatest_profits_increase):\n",
    "            greatest_profits_increase = monthly_pnl_change\n",
    "            greatest_profits_increase_month = date\n",
    "        elif (monthly_pnl_change < 0) and (monthly_pnl_change < greatest_profits_decrease):\n",
    "            greatest_profits_decrease = monthly_pnl_change\n",
    "            greatest_profits_decrease_month = date\n",
    "\n",
    "        #Now set your current month's P&L to the previous month's P&L for the next iteration\n",
    "        previous_month_pnl = current_month_pnl"
   ]
  },
  {
   "cell_type": "code",
   "execution_count": 192,
   "id": "9e6c9014-6cb3-4e59-b6b0-ac4454a93d82",
   "metadata": {},
   "outputs": [],
   "source": [
    "#Calculate the average P&L change using one month less than the total since no change can be calculated with the first month\n",
    "average_pnl_change = total_monthly_pnl_change / (total_months - 1)"
   ]
  },
  {
   "cell_type": "code",
   "execution_count": 198,
   "id": "b151d2b0-e940-4901-8929-8f4d830a4378",
   "metadata": {},
   "outputs": [
    {
     "name": "stdout",
     "output_type": "stream",
     "text": [
      "Financial Analysis\n",
      "----------------------------\n",
      "Total Months: 86\n",
      "Net Total P&L: $38,382,578\n",
      "Average P&L Change: $-2,315.12\n",
      "Greatest Increase in Profits: Feb-2012 ($1,926,159)\n",
      "Greatest Decrease in Profits: Sep-2013 ($-2,196,167)\n"
     ]
    }
   ],
   "source": [
    "#Print the results of the analysis to the terminal and export to a text file\n",
    "print(\"Financial Analysis\")\n",
    "print(\"----------------------------\")\n",
    "print(f\"Total Months: {total_months:,}\")\n",
    "print(f\"Net Total P&L: ${total_pnl:,}\")\n",
    "print(f\"Average P&L Change: ${average_pnl_change:,.2f}\")\n",
    "print(f\"Greatest Increase in Profits: {greatest_profits_increase_month} (${greatest_profits_increase:,})\")\n",
    "print(f\"Greatest Decrease in Profits: {greatest_profits_decrease_month} (${greatest_profits_decrease:,})\")"
   ]
  },
  {
   "cell_type": "code",
   "execution_count": 199,
   "id": "0127c424-4af2-45a8-9ad7-afcc96521ab4",
   "metadata": {},
   "outputs": [],
   "source": [
    "#Set the output file path\n",
    "output_filepath = Path(\"Results_Ssummary.txt\")"
   ]
  },
  {
   "cell_type": "code",
   "execution_count": 200,
   "id": "dde2d7fb-f646-4779-93e4-5863111e10ae",
   "metadata": {},
   "outputs": [],
   "source": [
    "#Write the contents of the analysis results to the text file\n",
    "with open(output_filepath,'w') as file:\n",
    "    file.write(\"Financial Analysis\\n\")\n",
    "    file.write(\"----------------------------\\n\")\n",
    "    file.write(f\"Total Months: {total_months:,}\\n\")\n",
    "    file.write(f\"Net Total P&L: ${total_pnl:,}\\n\")\n",
    "    file.write(f\"Average P&L Change: ${average_pnl_change:,.2f}\\n\")\n",
    "    file.write(f\"Greatest Increase in Profits: {greatest_profits_increase_month} (${greatest_profits_increase:,})\\n\")\n",
    "    file.write(f\"Greatest Decrease in Profits: {greatest_profits_decrease_month} (${greatest_profits_decrease:,})\\n\")"
   ]
  },
  {
   "cell_type": "code",
   "execution_count": null,
   "id": "32a820d9-8c2a-4d84-bcfb-80d8e892e189",
   "metadata": {},
   "outputs": [],
   "source": []
  }
 ],
 "metadata": {
  "kernelspec": {
   "display_name": "Python 3 (ipykernel)",
   "language": "python",
   "name": "python3"
  },
  "language_info": {
   "codemirror_mode": {
    "name": "ipython",
    "version": 3
   },
   "file_extension": ".py",
   "mimetype": "text/x-python",
   "name": "python",
   "nbconvert_exporter": "python",
   "pygments_lexer": "ipython3",
   "version": "3.8.8"
  }
 },
 "nbformat": 4,
 "nbformat_minor": 5
}
