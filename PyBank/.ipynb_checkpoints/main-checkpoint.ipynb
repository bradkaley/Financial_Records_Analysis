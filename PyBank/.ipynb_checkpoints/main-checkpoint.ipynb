{
 "cells": [
  {
   "cell_type": "code",
   "execution_count": null,
   "id": "ff09b66d-5863-4421-839b-46420ace1fd9",
   "metadata": {},
   "outputs": [],
   "source": [
    "#Write psuedocode"
   ]
  },
  {
   "cell_type": "code",
   "execution_count": 18,
   "id": "420153c0-d214-4f0f-bdd0-9d143543090f",
   "metadata": {},
   "outputs": [],
   "source": [
    "#Define the variables for the analysis\n",
    "total_months = 0\n",
    "total_pnl = 0\n",
    "average_change = 0\n",
    "greatest_profits_increase = 0\n",
    "greatest_profits_decrease = 0"
   ]
  },
  {
   "cell_type": "code",
   "execution_count": 21,
   "id": "04a9d93f-d032-4ae9-b204-b40e0713fdc2",
   "metadata": {},
   "outputs": [],
   "source": [
    "#Import dataset"
   ]
  },
  {
   "cell_type": "code",
   "execution_count": null,
   "id": "8cbf69f3-6ace-490c-82fa-8dde0e6764f8",
   "metadata": {},
   "outputs": [],
   "source": [
    "#Iterate financial anaylses through dataset"
   ]
  },
  {
   "cell_type": "code",
   "execution_count": 19,
   "id": "b151d2b0-e940-4901-8929-8f4d830a4378",
   "metadata": {},
   "outputs": [
    {
     "name": "stdout",
     "output_type": "stream",
     "text": [
      "Financial Analysis\n",
      "----------------------------\n",
      "Total Months: 0\n",
      "Net Total P&L: $0\n",
      "Average P&L Change: $0.00\n",
      "Greatest Increase in Profits: MMM-YYYY ($0)\n",
      "Greatest Decrease in Profits: MMM-YYYY ($0)\n"
     ]
    }
   ],
   "source": [
    "#Print the results of the analysis to the terminal and export to a text file\n",
    "print(\"Financial Analysis\")\n",
    "print(\"----------------------------\")\n",
    "print(f\"Total Months: {total_months}\")\n",
    "print(f\"Net Total P&L: ${total}\")\n",
    "print(f\"Average P&L Change: ${average_change:.2f}\")\n",
    "print(f\"Greatest Increase in Profits: MMM-YYYY (${greatest_profits_increase})\")\n",
    "print(f\"Greatest Decrease in Profits: MMM-YYYY (${greatest_profits_decrease})\")"
   ]
  },
  {
   "cell_type": "code",
   "execution_count": 22,
   "id": "0127c424-4af2-45a8-9ad7-afcc96521ab4",
   "metadata": {},
   "outputs": [],
   "source": [
    "#Need to also export a text file with the results"
   ]
  }
 ],
 "metadata": {
  "kernelspec": {
   "display_name": "Python 3 (ipykernel)",
   "language": "python",
   "name": "python3"
  },
  "language_info": {
   "codemirror_mode": {
    "name": "ipython",
    "version": 3
   },
   "file_extension": ".py",
   "mimetype": "text/x-python",
   "name": "python",
   "nbconvert_exporter": "python",
   "pygments_lexer": "ipython3",
   "version": "3.8.8"
  }
 },
 "nbformat": 4,
 "nbformat_minor": 5
}
