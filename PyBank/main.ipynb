{
 "cells": [
  {
   "cell_type": "code",
   "execution_count": null,
   "id": "ff09b66d-5863-4421-839b-46420ace1fd9",
   "metadata": {},
   "outputs": [],
   "source": [
    "#Write psuedocode"
   ]
  },
  {
   "cell_type": "code",
   "execution_count": 33,
   "id": "420153c0-d214-4f0f-bdd0-9d143543090f",
   "metadata": {},
   "outputs": [],
   "source": [
    "#Define the variables for the analysis\n",
    "total_months = 0\n",
    "total_pnl = 0\n",
    "previous_month_pnl = 0\n",
    "current_month_pnl = 0\n",
    "monthly_pnl_change = 0\n",
    "total_net_monthly_pnl_change = 0\n",
    "average_pnl_change = 0\n",
    "greatest_profits_increase = 0\n",
    "greatest_profits_decrease = 0"
   ]
  },
  {
   "cell_type": "code",
   "execution_count": 34,
   "id": "04a9d93f-d032-4ae9-b204-b40e0713fdc2",
   "metadata": {},
   "outputs": [
    {
     "name": "stdout",
     "output_type": "stream",
     "text": [
      "Current Working Directory: C:\\Users\\bradl\\OneDrive\\Desktop\\FinTech\\Homeworks\\Python-Homework\\PyBank\n"
     ]
    }
   ],
   "source": [
    "#Import Path function from Path library, identify current path, and import csv library\n",
    "from pathlib import Path\n",
    "print(f\"Current Working Directory: {Path.cwd()}\")\n",
    "\n",
    "import csv"
   ]
  },
  {
   "cell_type": "code",
   "execution_count": 35,
   "id": "e56b0282-9f35-4ef5-97fd-1a8f6667fb2d",
   "metadata": {},
   "outputs": [],
   "source": [
    "#Set relative file path to csv data file\n",
    "budget_data_filepath = Path('budget_data.csv')"
   ]
  },
  {
   "cell_type": "code",
   "execution_count": 38,
   "id": "9a029196-cd2b-4561-9192-e8125df88c96",
   "metadata": {},
   "outputs": [
    {
     "name": "stdout",
     "output_type": "stream",
     "text": [
      "['Date', 'Profit/Losses', 'Monthly P&L Change']\n"
     ]
    }
   ],
   "source": [
    "#Open the csv data file as an object\n",
    "with open(budget_data_filepath, 'r') as csv_data_file:\n",
    "\n",
    "    #Pass the csv data file with budget data into the csv reader with a ',' deliminter\n",
    "    csv_reader = csv.reader(csv_data_file,delimiter=',')\n",
    "    \n",
    "    #Read the header row first, append the header with a column for daily P&L change, and skip it in the analysis\n",
    "    header = next(csv_reader)\n",
    "    header.append(\"Monthly P&L Change\")\n",
    "    print(header)\n",
    "    \n",
    "    #Iterate over each row of the csv data file after the header\n",
    "    for row in csv_reader:\n",
    "        \n",
    "        #Set the 'date' and 'profit/losses' to variables for readability and convert 'profits/losses' from strings to integers for calculations\n",
    "        date = row[0]\n",
    "        pnl = int(row[1])\n",
    "        \n",
    "        #Calculate the total months and total P&L\n",
    "        total_months += 1\n",
    "        total_pnl += pnl\n",
    "        \n",
    "        #Set the current month's P&L, then calculate the 'Monthly P&L Change' and append the value to the current row\n",
    "        current_month_pnl = pnl\n",
    "        \n",
    "        if previous_month_pnl == 0:\n",
    "            monthly_pnl_change = 0\n",
    "        else:\n",
    "            monthly_pnl_change = current_month_pnl - previous_month_pnl\n",
    "            \n",
    "        row.append(monthly_pnl_change)        \n",
    "            \n",
    "        #Calculate the net total monthly P&L changes for the calculation of average monthly P&L change\n",
    "        total_monthly_pnl_change += monthly_pnl_change\n",
    "        \n",
    "        #Determine and update the variables for the greatest profit increase and decrease\n",
    "        if (monthly_pnl_change > 0) and (monthly_pnl_change > greatest_profits_increase):\n",
    "            greatest_profits_increase = monthly_pnl_change\n",
    "        elif (monthly_pnl_change < 0) and (monthly_pnl_change < greatest_profits_decrease):\n",
    "            greatest_profits_decrease = monthly_pnl_change          \n",
    "\n",
    "        #Now set your current month's P&L to the previous month's P&L for the next iteration\n",
    "        previous_month_pnl = current_month_pnl"
   ]
  },
  {
   "cell_type": "code",
   "execution_count": 39,
   "id": "4abe5448-550e-4baa-8e22-4b26eab09951",
   "metadata": {},
   "outputs": [],
   "source": [
    "#Calculate the average P&L change\n",
    "average_change = total_monthly_pnl_change / total_months"
   ]
  },
  {
   "cell_type": "code",
   "execution_count": 41,
   "id": "b151d2b0-e940-4901-8929-8f4d830a4378",
   "metadata": {},
   "outputs": [
    {
     "name": "stdout",
     "output_type": "stream",
     "text": [
      "Financial Analysis\n",
      "----------------------------\n",
      "Total Months: 86\n",
      "Net Total P&L: $38382578\n",
      "Average P&L Change: $-2288.20\n",
      "Greatest Increase in Profits: MMM-YYYY ($1926159)\n",
      "Greatest Decrease in Profits: MMM-YYYY ($-2196167)\n"
     ]
    }
   ],
   "source": [
    "#Print the results of the analysis to the terminal and export to a text file\n",
    "print(\"Financial Analysis\")\n",
    "print(\"----------------------------\")\n",
    "print(f\"Total Months: {total_months}\")\n",
    "print(f\"Net Total P&L: ${total_pnl}\")\n",
    "print(f\"Average P&L Change: ${average_change:.2f}\")\n",
    "print(f\"Greatest Increase in Profits: MMM-YYYY (${greatest_profits_increase})\")\n",
    "print(f\"Greatest Decrease in Profits: MMM-YYYY (${greatest_profits_decrease})\")"
   ]
  },
  {
   "cell_type": "code",
   "execution_count": 6,
   "id": "0127c424-4af2-45a8-9ad7-afcc96521ab4",
   "metadata": {},
   "outputs": [],
   "source": [
    "#Set the output file path\n",
    "output_filepath = Path(\"output.txt\")"
   ]
  },
  {
   "cell_type": "code",
   "execution_count": null,
   "id": "dde2d7fb-f646-4779-93e4-5863111e10ae",
   "metadata": {},
   "outputs": [
    {
     "ename": "NameError",
     "evalue": "name 'data' is not defined",
     "output_type": "error",
     "traceback": [
      "\u001b[1;31m---------------------------------------------------------------------------\u001b[0m",
      "\u001b[1;31mNameError\u001b[0m                                 Traceback (most recent call last)",
      "\u001b[1;32m~\\AppData\\Local\\Temp/ipykernel_17356/3125763737.py\u001b[0m in \u001b[0;36m<module>\u001b[1;34m\u001b[0m\n\u001b[0;32m      1\u001b[0m \u001b[1;31m#Write the contents of the analysis results to the text file\u001b[0m\u001b[1;33m\u001b[0m\u001b[1;33m\u001b[0m\u001b[1;33m\u001b[0m\u001b[0m\n\u001b[0;32m      2\u001b[0m \u001b[1;32mwith\u001b[0m \u001b[0mopen\u001b[0m\u001b[1;33m(\u001b[0m\u001b[0moutput_filepath\u001b[0m\u001b[1;33m,\u001b[0m\u001b[1;34m'w'\u001b[0m\u001b[1;33m)\u001b[0m \u001b[1;32mas\u001b[0m \u001b[0mfile\u001b[0m\u001b[1;33m:\u001b[0m\u001b[1;33m\u001b[0m\u001b[1;33m\u001b[0m\u001b[0m\n\u001b[1;32m----> 3\u001b[1;33m     \u001b[0mfile\u001b[0m\u001b[1;33m.\u001b[0m\u001b[0mwrite\u001b[0m\u001b[1;33m(\u001b[0m\u001b[0mdata\u001b[0m\u001b[1;33m)\u001b[0m\u001b[1;33m\u001b[0m\u001b[1;33m\u001b[0m\u001b[0m\n\u001b[0m",
      "\u001b[1;31mNameError\u001b[0m: name 'data' is not defined"
     ]
    }
   ],
   "source": [
    "#Write the contents of the analysis results to the text file\n",
    "with open(output_filepath,'w') as file:\n",
    "    file.write(data)"
   ]
  }
 ],
 "metadata": {
  "kernelspec": {
   "display_name": "Python 3 (ipykernel)",
   "language": "python",
   "name": "python3"
  },
  "language_info": {
   "codemirror_mode": {
    "name": "ipython",
    "version": 3
   },
   "file_extension": ".py",
   "mimetype": "text/x-python",
   "name": "python",
   "nbconvert_exporter": "python",
   "pygments_lexer": "ipython3",
   "version": "3.8.8"
  }
 },
 "nbformat": 4,
 "nbformat_minor": 5
}
