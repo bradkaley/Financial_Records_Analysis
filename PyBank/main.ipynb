{
 "cells": [
  {
   "cell_type": "code",
   "execution_count": null,
   "id": "ff09b66d-5863-4421-839b-46420ace1fd9",
   "metadata": {},
   "outputs": [],
   "source": [
    "#Write psuedocode"
   ]
  },
  {
   "cell_type": "code",
   "execution_count": 23,
   "id": "420153c0-d214-4f0f-bdd0-9d143543090f",
   "metadata": {},
   "outputs": [],
   "source": [
    "#Define the variables for the analysis\n",
    "total_months = 0\n",
    "total_pnl = 0\n",
    "previous_profit_change = 0\n",
    "current_profit_change = 0\n",
    "daily_profit_change = 0\n",
    "average_change = 0\n",
    "greatest_profits_increase = 0\n",
    "greatest_profits_decrease = 0"
   ]
  },
  {
   "cell_type": "code",
   "execution_count": 7,
   "id": "04a9d93f-d032-4ae9-b204-b40e0713fdc2",
   "metadata": {},
   "outputs": [
    {
     "name": "stdout",
     "output_type": "stream",
     "text": [
      "Current Working Directory: C:\\Users\\bradl\\OneDrive\\Desktop\\FinTech\\Homeworks\\Python-Homework\\PyBank\n"
     ]
    }
   ],
   "source": [
    "#Import Path function from Path library, identify current path, and import csv library\n",
    "from pathlib import Path\n",
    "print(f\"Current Working Directory: {Path.cwd()}\")\n",
    "\n",
    "import csv"
   ]
  },
  {
   "cell_type": "code",
   "execution_count": 11,
   "id": "e56b0282-9f35-4ef5-97fd-1a8f6667fb2d",
   "metadata": {},
   "outputs": [],
   "source": [
    "#Set relative file path to csv data file\n",
    "budget_data_filepath = Path('budget_data.csv')"
   ]
  },
  {
   "cell_type": "code",
   "execution_count": 22,
   "id": "900a6748-296e-4021-b13c-dc7f09c3f741",
   "metadata": {},
   "outputs": [],
   "source": [
    "#Initialize a dictionary for the budget data\n",
    "budget_data = {}"
   ]
  },
  {
   "cell_type": "code",
   "execution_count": 26,
   "id": "9a029196-cd2b-4561-9192-e8125df88c96",
   "metadata": {},
   "outputs": [
    {
     "name": "stdout",
     "output_type": "stream",
     "text": [
      "['Date', 'Profit/Losses', 'Daily P&L Change']\n"
     ]
    }
   ],
   "source": [
    "#Open the csv data file as an object\n",
    "with open(budget_data_filepath, 'r') as csv_data_file:\n",
    "\n",
    "    #Pass the csv data file with budget data into the csv reader with a ',' deliminter\n",
    "    csv_reader = csv.reader(csv_data_file,delimiter=',')\n",
    "    \n",
    "    #Read the header row first, append the header with a column for daily P&L change, and skip it in the analysis\n",
    "    header = next(csv_reader)\n",
    "    header.append(\"Daily P&L Change\")\n",
    "    print(header)\n",
    "    \n",
    "    #Read each row of the csv data file after the header\n",
    "    for row in csv_reader:\n",
    "        \n",
    "        #Set the 'date' and 'profit/losses' to variables for readability and convert 'profits/losses' from strings to integers for calculations\n",
    "        date = row[0]\n",
    "        pnl = int(row[1])\n",
    "        \n",
    "        #Calculate the total months and total P&L\n",
    "        total_months +=\n",
    "        \n",
    "        \n",
    "        #Calculate the 'Daily P&L Change'\n",
    "        daily_pnl_change = \n",
    "        \n",
    "        #append\n",
    "           "
   ]
  },
  {
   "cell_type": "code",
   "execution_count": 3,
   "id": "8cbf69f3-6ace-490c-82fa-8dde0e6764f8",
   "metadata": {},
   "outputs": [],
   "source": [
    "#Iterate financial anaylses through dataset"
   ]
  },
  {
   "cell_type": "code",
   "execution_count": 19,
   "id": "b151d2b0-e940-4901-8929-8f4d830a4378",
   "metadata": {},
   "outputs": [
    {
     "name": "stdout",
     "output_type": "stream",
     "text": [
      "Financial Analysis\n",
      "----------------------------\n",
      "Total Months: 0\n",
      "Net Total P&L: $0\n",
      "Average P&L Change: $0.00\n",
      "Greatest Increase in Profits: MMM-YYYY ($0)\n",
      "Greatest Decrease in Profits: MMM-YYYY ($0)\n"
     ]
    }
   ],
   "source": [
    "#Print the results of the analysis to the terminal and export to a text file\n",
    "print(\"Financial Analysis\")\n",
    "print(\"----------------------------\")\n",
    "print(f\"Total Months: {total_months}\")\n",
    "print(f\"Net Total P&L: ${total}\")\n",
    "print(f\"Average P&L Change: ${average_change:.2f}\")\n",
    "print(f\"Greatest Increase in Profits: MMM-YYYY (${greatest_profits_increase})\")\n",
    "print(f\"Greatest Decrease in Profits: MMM-YYYY (${greatest_profits_decrease})\")"
   ]
  },
  {
   "cell_type": "code",
   "execution_count": 6,
   "id": "0127c424-4af2-45a8-9ad7-afcc96521ab4",
   "metadata": {},
   "outputs": [],
   "source": [
    "#Set the output file path\n",
    "output_filepath = Path(\"output.txt\")"
   ]
  },
  {
   "cell_type": "code",
   "execution_count": 15,
   "id": "dde2d7fb-f646-4779-93e4-5863111e10ae",
   "metadata": {},
   "outputs": [
    {
     "ename": "NameError",
     "evalue": "name 'data' is not defined",
     "output_type": "error",
     "traceback": [
      "\u001b[1;31m---------------------------------------------------------------------------\u001b[0m",
      "\u001b[1;31mNameError\u001b[0m                                 Traceback (most recent call last)",
      "\u001b[1;32m~\\AppData\\Local\\Temp/ipykernel_17356/3125763737.py\u001b[0m in \u001b[0;36m<module>\u001b[1;34m\u001b[0m\n\u001b[0;32m      1\u001b[0m \u001b[1;31m#Write the contents of the analysis results to the text file\u001b[0m\u001b[1;33m\u001b[0m\u001b[1;33m\u001b[0m\u001b[1;33m\u001b[0m\u001b[0m\n\u001b[0;32m      2\u001b[0m \u001b[1;32mwith\u001b[0m \u001b[0mopen\u001b[0m\u001b[1;33m(\u001b[0m\u001b[0moutput_filepath\u001b[0m\u001b[1;33m,\u001b[0m\u001b[1;34m'w'\u001b[0m\u001b[1;33m)\u001b[0m \u001b[1;32mas\u001b[0m \u001b[0mfile\u001b[0m\u001b[1;33m:\u001b[0m\u001b[1;33m\u001b[0m\u001b[1;33m\u001b[0m\u001b[0m\n\u001b[1;32m----> 3\u001b[1;33m     \u001b[0mfile\u001b[0m\u001b[1;33m.\u001b[0m\u001b[0mwrite\u001b[0m\u001b[1;33m(\u001b[0m\u001b[0mdata\u001b[0m\u001b[1;33m)\u001b[0m\u001b[1;33m\u001b[0m\u001b[1;33m\u001b[0m\u001b[0m\n\u001b[0m",
      "\u001b[1;31mNameError\u001b[0m: name 'data' is not defined"
     ]
    }
   ],
   "source": [
    "#Write the contents of the analysis results to the text file\n",
    "with open(output_filepath,'w') as file:\n",
    "    file.write(data)\n"
   ]
  }
 ],
 "metadata": {
  "kernelspec": {
   "display_name": "Python 3 (ipykernel)",
   "language": "python",
   "name": "python3"
  },
  "language_info": {
   "codemirror_mode": {
    "name": "ipython",
    "version": 3
   },
   "file_extension": ".py",
   "mimetype": "text/x-python",
   "name": "python",
   "nbconvert_exporter": "python",
   "pygments_lexer": "ipython3",
   "version": "3.8.8"
  }
 },
 "nbformat": 4,
 "nbformat_minor": 5
}
